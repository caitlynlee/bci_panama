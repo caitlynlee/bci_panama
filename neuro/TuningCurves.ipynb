{
 "cells": [
  {
   "cell_type": "code",
   "execution_count": 1,
   "metadata": {
    "collapsed": true
   },
   "outputs": [],
   "source": [
    "%matplotlib inline\n",
    "import cv2\n",
    "import numpy as np\n",
    "import os\n",
    "from matplotlib import pyplot as plt\n",
    "import math\n",
    "from __future__ import division\n",
    "\n",
    "from scipy import stats"
   ]
  },
  {
   "cell_type": "code",
   "execution_count": 2,
   "metadata": {
    "collapsed": true
   },
   "outputs": [],
   "source": [
    "import csv"
   ]
  },
  {
   "cell_type": "code",
   "execution_count": 3,
   "metadata": {
    "collapsed": false
   },
   "outputs": [],
   "source": [
    "cwd = os.getcwd()\n",
    "playbackdir = os.path.join(cwd, \"playbackLogs\")\n",
    "tuningCurveDir = os.path.join(cwd, \"tuningCurves\")\n",
    "\n",
    "if not os.path.isdir(tuningCurveDir):\n",
    "    os.mkdir(tuningCurveDir)"
   ]
  },
  {
   "cell_type": "code",
   "execution_count": 4,
   "metadata": {
    "collapsed": true
   },
   "outputs": [],
   "source": [
    "def isSpecies(name):\n",
    "    if len(name.split(\"_\")) == 3:\n",
    "        return True\n",
    "    \n",
    "    return False"
   ]
  },
  {
   "cell_type": "code",
   "execution_count": 5,
   "metadata": {
    "collapsed": true
   },
   "outputs": [],
   "source": [
    "def getPlayback(species):\n",
    "    for insect in os.listdir(playbackdir):\n",
    "        insectName = insect[:-4]\n",
    "        if (insectName == species):\n",
    "            order = []\n",
    "            with open(os.path.join(playbackdir,insect)) as f: \n",
    "                for line in f:\n",
    "                    data = line.rstrip().split(\" \")\n",
    "                    if len(data) > 1: \n",
    "                        order.append(int(data[3].split(\"\\\\\")[2][:-7]))\n",
    "                \n",
    "    \n",
    "    return order\n",
    "            "
   ]
  },
  {
   "cell_type": "code",
   "execution_count": 6,
   "metadata": {
    "collapsed": false
   },
   "outputs": [
    {
     "name": "stdout",
     "output_type": "stream",
     "text": [
      "bugabae_f_y52\n",
      "34\n",
      "34\n",
      "chloriscertus_m_g22\n",
      "34\n",
      "34\n",
      "dimidiata_m_g75\n",
      "34\n",
      "34\n",
      "micans_m_r88\n",
      "34\n",
      "34\n",
      "polka_f_r89\n",
      "34\n",
      "34\n",
      "viadana_m_r18\n",
      "34\n",
      "34\n",
      "dino_f_g51\n",
      "34\n",
      "34\n"
     ]
    },
    {
     "data": {
      "text/plain": [
       "<matplotlib.figure.Figure at 0x1061b9c10>"
      ]
     },
     "metadata": {},
     "output_type": "display_data"
    },
    {
     "data": {
      "text/plain": [
       "<matplotlib.figure.Figure at 0x110b17810>"
      ]
     },
     "metadata": {},
     "output_type": "display_data"
    },
    {
     "data": {
      "text/plain": [
       "<matplotlib.figure.Figure at 0x11184a490>"
      ]
     },
     "metadata": {},
     "output_type": "display_data"
    },
    {
     "data": {
      "text/plain": [
       "<matplotlib.figure.Figure at 0x110b790d0>"
      ]
     },
     "metadata": {},
     "output_type": "display_data"
    },
    {
     "data": {
      "text/plain": [
       "<matplotlib.figure.Figure at 0x111b32e50>"
      ]
     },
     "metadata": {},
     "output_type": "display_data"
    },
    {
     "data": {
      "text/plain": [
       "<matplotlib.figure.Figure at 0x112152c50>"
      ]
     },
     "metadata": {},
     "output_type": "display_data"
    },
    {
     "data": {
      "text/plain": [
       "<matplotlib.figure.Figure at 0x111db89d0>"
      ]
     },
     "metadata": {},
     "output_type": "display_data"
    }
   ],
   "source": [
    "with open('thresholds.csv', 'rU') as csvfile:\n",
    "    reader = csv.reader(csvfile, delimiter=',')\n",
    "    for row in reader:\n",
    "        name = row[0]\n",
    "        if isSpecies(name):\n",
    "            print name\n",
    "            thresh =[int(x) for x in row[1:]]\n",
    "            order = getPlayback(name)\n",
    "            \n",
    "            print len(order)\n",
    "            print len(thresh)\n",
    "            \n",
    "            plt.figure(figsize=(14,6))\n",
    "            plt.plot(order, thresh, 'ko')\n",
    "            plt.savefig(os.path.join(tuningCurveDir, name + \".png\"), format=\"png\")\n",
    "            plt.clf()\n",
    "            \n",
    "            "
   ]
  }
 ],
 "metadata": {
  "kernelspec": {
   "display_name": "Python 2",
   "language": "python",
   "name": "python2"
  },
  "language_info": {
   "codemirror_mode": {
    "name": "ipython",
    "version": 2
   },
   "file_extension": ".py",
   "mimetype": "text/x-python",
   "name": "python",
   "nbconvert_exporter": "python",
   "pygments_lexer": "ipython2",
   "version": "2.7.11"
  }
 },
 "nbformat": 4,
 "nbformat_minor": 0
}
